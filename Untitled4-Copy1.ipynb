{
 "cells": [
  {
   "cell_type": "code",
   "execution_count": 72,
   "metadata": {},
   "outputs": [],
   "source": [
    "import os\n",
    "import pandas as pd\n",
    "import matplotlib.pyplot as plt\n",
    "files=os.listdir('projetoMonitoriaIp-master/')\n",
    "files.remove('.ipynb_checkpoints')\n",
    "lines={}\n",
    "import numpy as np\n",
    "#aqui eu importo as bibliotecas que irei usar para plotar, manipular dados e manipular arquivos, leio a pasta em que estam os\n",
    "#arquivos e removo o arquivo que nao era pra existir"
   ]
  },
  {
   "cell_type": "code",
   "execution_count": 39,
   "metadata": {},
   "outputs": [],
   "source": [
    "class carros:\n",
    "  def __init__ (self, modelo='',lugar='',ano='',km='',portas='',combustivel='',conservacao='',cambio='',marca=\"\",motor=''):\n",
    "    self._modelo=[]\n",
    "    self._marca=[]\n",
    "    self._lugar=[]\n",
    "    self._ano=[]\n",
    "    self._km=[]\n",
    "    self._portas=[]\n",
    "    self._combustivel=[]\n",
    "    self._conservacao=[]\n",
    "    self._cambio = []\n",
    "    self._motor=[]\n",
    "  def set_modelo(self,modelo):\n",
    "    self._modelo.append(modelo)\n",
    "  def set_marca(self,marca):\n",
    "    self._marca.append(marca)\n",
    "  def set_lugar(self,lugar):\n",
    "    self._lugar.append(lugar)\n",
    "  def set_ano(self,ano):\n",
    "    self._ano.append(ano)\n",
    "  def set_km(self,km):\n",
    "    self._km.append(int(km))\n",
    "  def set_portas(self,portas):\n",
    "    self._portas.append(portas)\n",
    "  def set_combustivel(self,combustivel):\n",
    "    self._combustivel.append(combustivel)\n",
    "  def set_conservacao(self,conservacao):\n",
    "    self._conservacao.append(conservacao)\n",
    "  def set_cambio(self,cambio):\n",
    "    self._cambio.append(cambio)\n",
    "  def set_motor(self,motor):\n",
    "    self._motor.append(motor)\n",
    "#nessa pasta eu defino a classe carros em que cada carro sera armazenado com suas especificidades como marca e quilometragem\n",
    "#tambem sao definidos os sets que sao necessarios para inserir as caracteristicas de cada carro"
   ]
  },
  {
   "cell_type": "code",
   "execution_count": 40,
   "metadata": {},
   "outputs": [],
   "source": [
    "modelo='' \n",
    "lugar=''\n",
    "ano=''\n",
    "km=''\n",
    "portas=''\n",
    "combustivel=''\n",
    "conservacao=''\n",
    "cambio=''\n",
    "marca=''\n",
    "motor=''\n",
    "todos=carros()\n",
    "#definindo as variaveis que irei usar para definir cada carro e a lista que tera todos os carros"
   ]
  },
  {
   "cell_type": "code",
   "execution_count": 41,
   "metadata": {},
   "outputs": [],
   "source": [
    "for file in files:\n",
    "  with open('projetoMonitoriaIp-master/'+file,'r',encoding='utf8') as things:\n",
    "    lines[file]=things.readlines()\n",
    "    if lines[file][2] == 'Modelo\\n':\n",
    "      marca = lines[file][3].upper().split(' ', 1)[0]\n",
    "      if marca=='GM':\n",
    "        marca= 'CHEVROLET'\n",
    "      modelo = lines[file][3].upper()[:-1]\n",
    "      lugar = 'indeterminado'\n",
    "      ano = lines[file][9][:-1]\n",
    "      if lines[file][10]=='Quilometragem\\n':\n",
    "        motor = lines[file][13][:-1]\n",
    "        km = lines[file][11][:-1]\n",
    "      else:\n",
    "        motor = lines[file][11][:-1]\n",
    "        km = lines[file][13][:-1]\n",
    "      if lines[file][20]=='Portas\\n':\n",
    "        portas = lines[file][21][0]\n",
    "        cor = lines[file][19]\n",
    "      elif lines[file][20]!='Final de placa\\n':\n",
    "        portas = lines[file][23][0]\n",
    "        cor = lines[file][21]\n",
    "      else:\n",
    "        portas = 'indeterminado'\n",
    "        cor = lines[file][21]\n",
    "      combustivel = lines[file][15][:-1]\n",
    "      conservacao = 'indeterminado'\n",
    "      cambio = lines[file][17][:-1]\n",
    "    else:\n",
    "      marca = lines[file][0].upper().split(' ')[0]\n",
    "      if marca=='GM':\n",
    "        marca= 'CHEVROLET'\n",
    "      modelo = lines[file][0].upper()[:-1]\n",
    "      lugar = lines[file][1].upper()[:-1]\n",
    "      if lines[file][2]=='ANO\\n':\n",
    "        ano = lines[file][3][:-1]\n",
    "        km = lines[file][5][:-1]\n",
    "      else:\n",
    "        ano = lines[file][5][:-1]\n",
    "        km = lines[file][3][:-1]\n",
    "      if lines[file][9].startswith('Conservação:'):\n",
    "        combustivel = lines[file][9].split(' ')[3]\n",
    "        conservacao = lines[file][9].split(' ')[1]\n",
    "        cambio = lines[file][9].split(' ')[-1][:-1]\n",
    "        motor = lines[file][9].split(' ')[-3]\n",
    "      else:\n",
    "        combustivel = lines[file][11].split(' ')[3]\n",
    "        conservacao = lines[file][11].split(' ')[1]\n",
    "        cambio = lines[file][11].split(' ')[-1][:-1]\n",
    "        motor = lines[file][11].split(' ')[-3]\n",
    "      if lines[file][8]=='PORTAS\\n':\n",
    "        portas=lines[file][9][0]\n",
    "      else:\n",
    "        portas='indeterminado'\n",
    "    if cambio=='Manua':\n",
    "        cambio='Manual'\n",
    "    if motor=='2.0 ':\n",
    "        motor='2.0'\n",
    "    todos.set_ano(ano)\n",
    "    todos.set_cambio(cambio)\n",
    "    todos.set_combustivel(combustivel)\n",
    "    todos.set_conservacao(conservacao)\n",
    "    todos.set_km(km)\n",
    "    todos.set_lugar(lugar)\n",
    "    todos.set_marca(marca)\n",
    "    todos.set_modelo(modelo)\n",
    "    todos.set_motor(motor)\n",
    "    todos.set_portas(portas)\n",
    "#aqui eu limpo o que vira a ser o dataframe, certas entradas estam faltando ou em lugarem diferente o que fez a manipulacao ser\n",
    "#necessaria,tambem foi necessario retirar o \\n do fim de diversas palavras para o dataframe ficar mais \"limpo\""
   ]
  },
  {
   "cell_type": "code",
   "execution_count": 42,
   "metadata": {},
   "outputs": [
    {
     "data": {
      "text/html": [
       "<div>\n",
       "<style scoped>\n",
       "    .dataframe tbody tr th:only-of-type {\n",
       "        vertical-align: middle;\n",
       "    }\n",
       "\n",
       "    .dataframe tbody tr th {\n",
       "        vertical-align: top;\n",
       "    }\n",
       "\n",
       "    .dataframe thead th {\n",
       "        text-align: right;\n",
       "    }\n",
       "</style>\n",
       "<table border=\"1\" class=\"dataframe\">\n",
       "  <thead>\n",
       "    <tr style=\"text-align: right;\">\n",
       "      <th></th>\n",
       "      <th>_modelo</th>\n",
       "      <th>_marca</th>\n",
       "      <th>_lugar</th>\n",
       "      <th>_ano</th>\n",
       "      <th>_km</th>\n",
       "      <th>_portas</th>\n",
       "      <th>_combustivel</th>\n",
       "      <th>_conservacao</th>\n",
       "      <th>_cambio</th>\n",
       "      <th>_motor</th>\n",
       "    </tr>\n",
       "  </thead>\n",
       "  <tbody>\n",
       "    <tr>\n",
       "      <th>0</th>\n",
       "      <td>CHEVROLET ONIX HATCH LT 1.4 8V FLEXPOWER 5P AUT.</td>\n",
       "      <td>CHEVROLET</td>\n",
       "      <td>RECIFE - PE</td>\n",
       "      <td>2016 / 2017</td>\n",
       "      <td>48000</td>\n",
       "      <td>4</td>\n",
       "      <td>Flex</td>\n",
       "      <td>Usado</td>\n",
       "      <td>Automático</td>\n",
       "      <td>1.4</td>\n",
       "    </tr>\n",
       "    <tr>\n",
       "      <th>1</th>\n",
       "      <td>HONDA CIVIC SEDAN LX 2.0 FLEX 16V AUT. 4P</td>\n",
       "      <td>HONDA</td>\n",
       "      <td>indeterminado</td>\n",
       "      <td>2020 / 2020</td>\n",
       "      <td>8000</td>\n",
       "      <td>4</td>\n",
       "      <td>Flex</td>\n",
       "      <td>indeterminado</td>\n",
       "      <td>Automático</td>\n",
       "      <td>2.0</td>\n",
       "    </tr>\n",
       "    <tr>\n",
       "      <th>2</th>\n",
       "      <td>TOYOTA COROLLA</td>\n",
       "      <td>TOYOTA</td>\n",
       "      <td>indeterminado</td>\n",
       "      <td>2018 / 2018</td>\n",
       "      <td>41150</td>\n",
       "      <td>4</td>\n",
       "      <td>Flex</td>\n",
       "      <td>indeterminado</td>\n",
       "      <td>Automático</td>\n",
       "      <td>2.0</td>\n",
       "    </tr>\n",
       "    <tr>\n",
       "      <th>3</th>\n",
       "      <td>FIAT UNO VIVACE/RUA 1.0 EVO FIRE FLEX 8V 5P</td>\n",
       "      <td>FIAT</td>\n",
       "      <td>indeterminado</td>\n",
       "      <td>2012 / 2012</td>\n",
       "      <td>89000</td>\n",
       "      <td>4</td>\n",
       "      <td>Flex</td>\n",
       "      <td>indeterminado</td>\n",
       "      <td>Manual</td>\n",
       "      <td>1.0</td>\n",
       "    </tr>\n",
       "    <tr>\n",
       "      <th>4</th>\n",
       "      <td>HYUNDAI GENESIS 3.8 V6 24V 290CV 4P AUT.</td>\n",
       "      <td>HYUNDAI</td>\n",
       "      <td>RECIFE - PE</td>\n",
       "      <td>2011 / 2012</td>\n",
       "      <td>45980</td>\n",
       "      <td>4</td>\n",
       "      <td>Gasolina</td>\n",
       "      <td>Usado</td>\n",
       "      <td>Automático</td>\n",
       "      <td>3.8</td>\n",
       "    </tr>\n",
       "    <tr>\n",
       "      <th>5</th>\n",
       "      <td>CHEVROLET CRUZE LT 1.8 16V FLEXPOWER 4P AUT.</td>\n",
       "      <td>CHEVROLET</td>\n",
       "      <td>RECIFE - PE</td>\n",
       "      <td>2015 / 2015</td>\n",
       "      <td>49880</td>\n",
       "      <td>4</td>\n",
       "      <td>Flex</td>\n",
       "      <td>Usado</td>\n",
       "      <td>Automático</td>\n",
       "      <td>1.8</td>\n",
       "    </tr>\n",
       "    <tr>\n",
       "      <th>6</th>\n",
       "      <td>MITSUBISHI ASX O NEILL 2.0 16V 160CV AUT.</td>\n",
       "      <td>MITSUBISHI</td>\n",
       "      <td>RECIFE - PE</td>\n",
       "      <td>2015 / 2016</td>\n",
       "      <td>57240</td>\n",
       "      <td>4</td>\n",
       "      <td>Gasolina</td>\n",
       "      <td>Usado</td>\n",
       "      <td>Automático</td>\n",
       "      <td>2.0</td>\n",
       "    </tr>\n",
       "    <tr>\n",
       "      <th>7</th>\n",
       "      <td>JEEP RENEGADE SPORT 1.8 4X2 FLEX 16V MEC.</td>\n",
       "      <td>JEEP</td>\n",
       "      <td>RECIFE - PE</td>\n",
       "      <td>2016 / 2016</td>\n",
       "      <td>44060</td>\n",
       "      <td>4</td>\n",
       "      <td>Flex</td>\n",
       "      <td>Usado</td>\n",
       "      <td>Manual</td>\n",
       "      <td>1.8</td>\n",
       "    </tr>\n",
       "    <tr>\n",
       "      <th>8</th>\n",
       "      <td>CHEVROLET ONIX HATCH LT 1.0 8V FLEXPOWER 5P MEC.</td>\n",
       "      <td>CHEVROLET</td>\n",
       "      <td>CONTAGEM - MG</td>\n",
       "      <td>2012 / 2013</td>\n",
       "      <td>71000</td>\n",
       "      <td>4</td>\n",
       "      <td>Flex</td>\n",
       "      <td>Usado</td>\n",
       "      <td>Manual</td>\n",
       "      <td>1.0</td>\n",
       "    </tr>\n",
       "    <tr>\n",
       "      <th>9</th>\n",
       "      <td>BMW X1 SDRIVE 20I 2.0/2.0 TB ACTI.FLEX AUT.</td>\n",
       "      <td>BMW</td>\n",
       "      <td>RECIFE - PE</td>\n",
       "      <td>2015 / 2015</td>\n",
       "      <td>46935</td>\n",
       "      <td>4</td>\n",
       "      <td>Gasolina</td>\n",
       "      <td>Usado</td>\n",
       "      <td>Automático</td>\n",
       "      <td>2.0</td>\n",
       "    </tr>\n",
       "    <tr>\n",
       "      <th>10</th>\n",
       "      <td>CHEVROLET ONIX HATCH JOY 1.0 8V FLEX 5P MEC.</td>\n",
       "      <td>CHEVROLET</td>\n",
       "      <td>BRASÍLIA/PLANO PILOTO - DF</td>\n",
       "      <td>2018 / 2019</td>\n",
       "      <td>31000</td>\n",
       "      <td>indeterminado</td>\n",
       "      <td>Flex</td>\n",
       "      <td>Usado</td>\n",
       "      <td>Manual</td>\n",
       "      <td>1.0</td>\n",
       "    </tr>\n",
       "    <tr>\n",
       "      <th>11</th>\n",
       "      <td>JEEP RENEGADE SPORT 1.8 4X2 FLEX 16V AUT.</td>\n",
       "      <td>JEEP</td>\n",
       "      <td>indeterminado</td>\n",
       "      <td>2018 /   2018</td>\n",
       "      <td>23000</td>\n",
       "      <td>indeterminado</td>\n",
       "      <td>Flex</td>\n",
       "      <td>indeterminado</td>\n",
       "      <td>Automático</td>\n",
       "      <td>1.8</td>\n",
       "    </tr>\n",
       "    <tr>\n",
       "      <th>12</th>\n",
       "      <td>GM - CHEVROLET CORSA SED CLASSIC SUPER 1.6 MPF...</td>\n",
       "      <td>CHEVROLET</td>\n",
       "      <td>indeterminado</td>\n",
       "      <td>2008 / 2008</td>\n",
       "      <td>128000</td>\n",
       "      <td>4</td>\n",
       "      <td>Flex</td>\n",
       "      <td>indeterminado</td>\n",
       "      <td>Manual</td>\n",
       "      <td>1.0</td>\n",
       "    </tr>\n",
       "    <tr>\n",
       "      <th>13</th>\n",
       "      <td>RENAULT KWID ZEN 1.0 FLEX 12V 5P MEC.</td>\n",
       "      <td>RENAULT</td>\n",
       "      <td>indeterminado</td>\n",
       "      <td>2020 / 2020</td>\n",
       "      <td>5000</td>\n",
       "      <td>4</td>\n",
       "      <td>Flex</td>\n",
       "      <td>indeterminado</td>\n",
       "      <td>Manual</td>\n",
       "      <td>1.0</td>\n",
       "    </tr>\n",
       "    <tr>\n",
       "      <th>14</th>\n",
       "      <td>RENAULT LOGAN EXPRESSION FLEX 1.0 12V 4P</td>\n",
       "      <td>RENAULT</td>\n",
       "      <td>indeterminado</td>\n",
       "      <td>2019 / 2019</td>\n",
       "      <td>35381</td>\n",
       "      <td>4</td>\n",
       "      <td>Flex</td>\n",
       "      <td>indeterminado</td>\n",
       "      <td>Manual</td>\n",
       "      <td>1.0</td>\n",
       "    </tr>\n",
       "  </tbody>\n",
       "</table>\n",
       "</div>"
      ],
      "text/plain": [
       "                                              _modelo      _marca  \\\n",
       "0    CHEVROLET ONIX HATCH LT 1.4 8V FLEXPOWER 5P AUT.   CHEVROLET   \n",
       "1           HONDA CIVIC SEDAN LX 2.0 FLEX 16V AUT. 4P       HONDA   \n",
       "2                                      TOYOTA COROLLA      TOYOTA   \n",
       "3         FIAT UNO VIVACE/RUA 1.0 EVO FIRE FLEX 8V 5P        FIAT   \n",
       "4            HYUNDAI GENESIS 3.8 V6 24V 290CV 4P AUT.     HYUNDAI   \n",
       "5        CHEVROLET CRUZE LT 1.8 16V FLEXPOWER 4P AUT.   CHEVROLET   \n",
       "6           MITSUBISHI ASX O NEILL 2.0 16V 160CV AUT.  MITSUBISHI   \n",
       "7           JEEP RENEGADE SPORT 1.8 4X2 FLEX 16V MEC.        JEEP   \n",
       "8    CHEVROLET ONIX HATCH LT 1.0 8V FLEXPOWER 5P MEC.   CHEVROLET   \n",
       "9         BMW X1 SDRIVE 20I 2.0/2.0 TB ACTI.FLEX AUT.         BMW   \n",
       "10       CHEVROLET ONIX HATCH JOY 1.0 8V FLEX 5P MEC.   CHEVROLET   \n",
       "11          JEEP RENEGADE SPORT 1.8 4X2 FLEX 16V AUT.        JEEP   \n",
       "12  GM - CHEVROLET CORSA SED CLASSIC SUPER 1.6 MPF...   CHEVROLET   \n",
       "13              RENAULT KWID ZEN 1.0 FLEX 12V 5P MEC.     RENAULT   \n",
       "14           RENAULT LOGAN EXPRESSION FLEX 1.0 12V 4P     RENAULT   \n",
       "\n",
       "                        _lugar           _ano     _km        _portas  \\\n",
       "0                  RECIFE - PE    2016 / 2017   48000              4   \n",
       "1                indeterminado    2020 / 2020    8000              4   \n",
       "2                indeterminado    2018 / 2018   41150              4   \n",
       "3                indeterminado    2012 / 2012   89000              4   \n",
       "4                  RECIFE - PE    2011 / 2012   45980              4   \n",
       "5                  RECIFE - PE    2015 / 2015   49880              4   \n",
       "6                  RECIFE - PE    2015 / 2016   57240              4   \n",
       "7                  RECIFE - PE    2016 / 2016   44060              4   \n",
       "8                CONTAGEM - MG    2012 / 2013   71000              4   \n",
       "9                  RECIFE - PE    2015 / 2015   46935              4   \n",
       "10  BRASÍLIA/PLANO PILOTO - DF    2018 / 2019   31000  indeterminado   \n",
       "11               indeterminado  2018 /   2018   23000  indeterminado   \n",
       "12               indeterminado    2008 / 2008  128000              4   \n",
       "13               indeterminado    2020 / 2020    5000              4   \n",
       "14               indeterminado    2019 / 2019   35381              4   \n",
       "\n",
       "   _combustivel   _conservacao     _cambio _motor  \n",
       "0          Flex          Usado  Automático    1.4  \n",
       "1          Flex  indeterminado  Automático    2.0  \n",
       "2          Flex  indeterminado  Automático    2.0  \n",
       "3          Flex  indeterminado      Manual    1.0  \n",
       "4      Gasolina          Usado  Automático    3.8  \n",
       "5          Flex          Usado  Automático    1.8  \n",
       "6      Gasolina          Usado  Automático    2.0  \n",
       "7          Flex          Usado      Manual    1.8  \n",
       "8          Flex          Usado      Manual    1.0  \n",
       "9      Gasolina          Usado  Automático    2.0  \n",
       "10         Flex          Usado      Manual    1.0  \n",
       "11         Flex  indeterminado  Automático    1.8  \n",
       "12         Flex  indeterminado      Manual    1.0  \n",
       "13         Flex  indeterminado      Manual    1.0  \n",
       "14         Flex  indeterminado      Manual    1.0  "
      ]
     },
     "execution_count": 42,
     "metadata": {},
     "output_type": "execute_result"
    }
   ],
   "source": [
    "d=todos.__dict__\n",
    "df=pd.DataFrame(data=d)\n",
    "df\n",
    "#declaracao do dataframe"
   ]
  },
  {
   "cell_type": "code",
   "execution_count": 43,
   "metadata": {},
   "outputs": [
    {
     "data": {
      "text/plain": [
       "Text(0.5, 1.0, 'Tipos de motor por quantidade')"
      ]
     },
     "execution_count": 43,
     "metadata": {},
     "output_type": "execute_result"
    },
    {
     "data": {
      "image/png": "[encoded data removed]",
      "text/plain": [
       "<Figure size 432x288 with 1 Axes>"
      ]
     },
     "metadata": {},
     "output_type": "display_data"
    }
   ],
   "source": [
    "quant=df['_motor'].value_counts().values[df['_motor'].value_counts()>=0]\n",
    "nome=df['_motor'].value_counts().index[df['_motor'].value_counts()>=0]\n",
    "plt.style.use('ggplot')\n",
    "plt.bar(nome,quant)\n",
    "plt.xticks(rotation=90)\n",
    "plt.title('Tipos de motor por quantidade')\n",
    "#primeiro plot, aqui eu separo cada motor e a quantidade de carros que tem cada motor, contei a quantidade de vezes que cada\n",
    "#aparece e essa quantidade fica ligada com a quantidade de vezes que o index aparece e eles aparecem juntos no plot.\n",
    "#ao longo do trabalho tambem experimentei com estilizacao do plot"
   ]
  },
  {
   "cell_type": "code",
   "execution_count": 75,
   "metadata": {},
   "outputs": [
    {
     "data": {
      "text/plain": [
       "([<matplotlib.patches.Wedge at 0x1797c0e9d08>,\n",
       "  <matplotlib.patches.Wedge at 0x1797c0f1dc8>,\n",
       "  <matplotlib.patches.Wedge at 0x1797c0fc248>,\n",
       "  <matplotlib.patches.Wedge at 0x1797c101708>],\n",
       " [Text(0.1254341484720754, 1.193426275224861, 'indeterminado'),\n",
       "  Text(-0.5999999675667402, -1.039230503266677, 'RECIFE - PE'),\n",
       "  Text(0.9708204361752281, -0.7053422436693694, 'BRASÍLIA/PLANO PILOTO - DF'),\n",
       "  Text(1.173777141514626, -0.24949393190567531, 'CONTAGEM - MG')],\n",
       " [Text(0.07316991994204398, 0.6961653272145021, '46.7%'),\n",
       "  Text(-0.34999998108059843, -0.6062177935722283, '40.0%'),\n",
       "  Text(0.5663119211022163, -0.4114496421404655, '6.7%'),\n",
       "  Text(0.6847033325501984, -0.14553812694497725, '6.7%')])"
      ]
     },
     "execution_count": 75,
     "metadata": {},
     "output_type": "execute_result"
    },
    {
     "data": {
      "image/png": "[encoded data removed]",
      "text/plain": [
       "<Figure size 432x288 with 1 Axes>"
      ]
     },
     "metadata": {},
     "output_type": "display_data"
    }
   ],
   "source": [
    "labels = df['_lugar'].value_counts().index\n",
    "values = df['_lugar'].value_counts()\n",
    "plt.style.use('ggplot')\n",
    "plt.pie(values,labels = labels,explode = (0.1, 0.1, 0.1, 0.1),autopct = '%1.1f%%',shadow = True,startangle = 0,wedgeprops={\"ec\":\"k\"},textprops={\"fontsize\":14,\"color\":'green'},colors=['white','black','silver','blue'])\n",
    "#aqui demonstra a disparidade de local de venda de cada carro"
   ]
  },
  {
   "cell_type": "code",
   "execution_count": 26,
   "metadata": {},
   "outputs": [
    {
     "ename": "IndexError",
     "evalue": "boolean index did not match indexed array along dimension 0; dimension is 15 but corresponding boolean dimension is 6",
     "output_type": "error",
     "traceback": [
      "\u001b[1;31m---------------------------------------------------------------------------\u001b[0m",
      "\u001b[1;31mIndexError\u001b[0m                                Traceback (most recent call last)",
      "\u001b[1;32m<ipython-input-26-22809077acee>\u001b[0m in \u001b[0;36m<module>\u001b[1;34m\u001b[0m\n\u001b[1;32m----> 1\u001b[1;33m \u001b[0mplt\u001b[0m\u001b[1;33m.\u001b[0m\u001b[0mscatter\u001b[0m\u001b[1;33m(\u001b[0m\u001b[0mdf\u001b[0m\u001b[1;33m[\u001b[0m\u001b[1;34m'_km'\u001b[0m\u001b[1;33m]\u001b[0m\u001b[1;33m.\u001b[0m\u001b[0mvalue_counts\u001b[0m\u001b[1;33m(\u001b[0m\u001b[1;33m)\u001b[0m\u001b[1;33m.\u001b[0m\u001b[0mvalues\u001b[0m\u001b[1;33m[\u001b[0m\u001b[0mdf\u001b[0m\u001b[1;33m[\u001b[0m\u001b[1;34m'_motor'\u001b[0m\u001b[1;33m]\u001b[0m\u001b[1;33m.\u001b[0m\u001b[0mvalue_counts\u001b[0m\u001b[1;33m(\u001b[0m\u001b[1;33m)\u001b[0m\u001b[1;33m<=\u001b[0m\u001b[1;36m40000\u001b[0m\u001b[1;33m]\u001b[0m\u001b[1;33m,\u001b[0m\u001b[0mdf\u001b[0m\u001b[1;33m[\u001b[0m\u001b[1;34m'_km'\u001b[0m\u001b[1;33m]\u001b[0m\u001b[1;33m.\u001b[0m\u001b[0mvalue_counts\u001b[0m\u001b[1;33m(\u001b[0m\u001b[1;33m)\u001b[0m\u001b[1;33m.\u001b[0m\u001b[0mvalues\u001b[0m\u001b[1;33m[\u001b[0m\u001b[0mdf\u001b[0m\u001b[1;33m[\u001b[0m\u001b[1;34m'_motor'\u001b[0m\u001b[1;33m]\u001b[0m\u001b[1;33m.\u001b[0m\u001b[0mvalue_counts\u001b[0m\u001b[1;33m(\u001b[0m\u001b[1;33m)\u001b[0m\u001b[1;33m<=\u001b[0m\u001b[1;36m40000\u001b[0m\u001b[1;33m]\u001b[0m\u001b[1;33m,\u001b[0m\u001b[0mlabel\u001b[0m\u001b[1;33m=\u001b[0m\u001b[1;34m'km<=40k'\u001b[0m\u001b[1;33m)\u001b[0m\u001b[1;33m\u001b[0m\u001b[1;33m\u001b[0m\u001b[0m\n\u001b[0m\u001b[0;32m      2\u001b[0m \u001b[1;31m#plt.scatter(df['_km'].value_counts()<=25000,df['_km'].value_counts()<=25000,label='km<=25k')\u001b[0m\u001b[1;33m\u001b[0m\u001b[1;33m\u001b[0m\u001b[1;33m\u001b[0m\u001b[0m\n\u001b[0;32m      3\u001b[0m \u001b[1;31m#plt.scatter(df['_km'].value_counts()<=40000,df['_km'].value_counts()<=40000,label='km<=40k')\u001b[0m\u001b[1;33m\u001b[0m\u001b[1;33m\u001b[0m\u001b[1;33m\u001b[0m\u001b[0m\n\u001b[0;32m      4\u001b[0m \u001b[0mplt\u001b[0m\u001b[1;33m.\u001b[0m\u001b[0mscatter\u001b[0m\u001b[1;33m(\u001b[0m\u001b[0mdf\u001b[0m\u001b[1;33m[\u001b[0m\u001b[1;34m'_km'\u001b[0m\u001b[1;33m]\u001b[0m\u001b[1;33m.\u001b[0m\u001b[0mvalue_counts\u001b[0m\u001b[1;33m(\u001b[0m\u001b[1;33m)\u001b[0m\u001b[1;33m.\u001b[0m\u001b[0mvalues\u001b[0m\u001b[1;33m[\u001b[0m\u001b[0mdf\u001b[0m\u001b[1;33m[\u001b[0m\u001b[1;34m'_motor'\u001b[0m\u001b[1;33m]\u001b[0m\u001b[1;33m.\u001b[0m\u001b[0mvalue_counts\u001b[0m\u001b[1;33m(\u001b[0m\u001b[1;33m)\u001b[0m\u001b[1;33m>\u001b[0m\u001b[1;36m40000\u001b[0m\u001b[1;33m]\u001b[0m\u001b[1;33m,\u001b[0m\u001b[0mdf\u001b[0m\u001b[1;33m[\u001b[0m\u001b[1;34m'_km'\u001b[0m\u001b[1;33m]\u001b[0m\u001b[1;33m.\u001b[0m\u001b[0mvalue_counts\u001b[0m\u001b[1;33m(\u001b[0m\u001b[1;33m)\u001b[0m\u001b[1;33m.\u001b[0m\u001b[0mvalues\u001b[0m\u001b[1;33m[\u001b[0m\u001b[0mdf\u001b[0m\u001b[1;33m[\u001b[0m\u001b[1;34m'_motor'\u001b[0m\u001b[1;33m]\u001b[0m\u001b[1;33m.\u001b[0m\u001b[0mvalue_counts\u001b[0m\u001b[1;33m(\u001b[0m\u001b[1;33m)\u001b[0m\u001b[1;33m>\u001b[0m\u001b[1;36m40000\u001b[0m\u001b[1;33m]\u001b[0m\u001b[1;33m,\u001b[0m\u001b[0mlabel\u001b[0m\u001b[1;33m=\u001b[0m\u001b[1;34m'km<=40k'\u001b[0m\u001b[1;33m)\u001b[0m\u001b[1;33m\u001b[0m\u001b[1;33m\u001b[0m\u001b[0m\n\u001b[0;32m      5\u001b[0m \u001b[0mplt\u001b[0m\u001b[1;33m.\u001b[0m\u001b[0mplot\u001b[0m\u001b[1;33m(\u001b[0m\u001b[1;33m)\u001b[0m\u001b[1;33m\u001b[0m\u001b[1;33m\u001b[0m\u001b[0m\n",
      "\u001b[1;31mIndexError\u001b[0m: boolean index did not match indexed array along dimension 0; dimension is 15 but corresponding boolean dimension is 6"
     ]
    }
   ],
   "source": [
    "#plt.scatter(df['_km'].value_counts().values[df['_motor'].value_counts()<=40000],df['_km'].value_counts().values[df['_motor'].value_counts()<=40000],label='km<=40k')\n",
    "#plt.scatter(df['_km'].value_counts()<=25000,df['_km'].value_counts()<=25000,label='km<=25k')\n",
    "#plt.scatter(df['_km'].value_counts()<=40000,df['_km'].value_counts()<=40000,label='km<=40k')\n",
    "#plt.scatter(df['_km'].value_counts().values[df['_motor'].value_counts()>40000],df['_km'].value_counts().values[df['_motor'].value_counts()>40000],label='km<=40k')\n",
    "#plt.plot()\n",
    "#plt.legend()\n",
    "#plt.rcParams['figure.facecolor'] = 'white'\n",
    "#plt.rcParams['axes.facecolor'] = 'black'\n",
    "#plt.rcParams['legend.facecolor'] = 'white'\n",
    "#tentativa falha de plotar a kilometragem dos carros, abaixo de 40000 e acima de 40000"
   ]
  },
  {
   "cell_type": "code",
   "execution_count": 71,
   "metadata": {},
   "outputs": [
    {
     "data": {
      "text/plain": [
       "Text(0.5, 1.0, 'quilometragem dos carros')"
      ]
     },
     "execution_count": 71,
     "metadata": {},
     "output_type": "execute_result"
    },
    {
     "data": {
      "image/png": "[encoded data removed]",
      "text/plain": [
       "<Figure size 432x288 with 1 Axes>"
      ]
     },
     "metadata": {},
     "output_type": "display_data"
    }
   ],
   "source": [
    "kmplt=[]\n",
    "for km in df['_km']:\n",
    "    if int(km)<=40000:\n",
    "        kmplt.append('<=40k')\n",
    "    else :\n",
    "        kmplt.append('>40k')\n",
    "kmplt=pd.DataFrame(data=kmplt)\n",
    "quant=kmplt[0].value_counts().values[kmplt[0].value_counts()>=0]\n",
    "nome=kmplt[0].value_counts().index[kmplt[0].value_counts()>=0]\n",
    "plt.style.use('seaborn-colorblind')\n",
    "plt.bar(nome,quant)\n",
    "plt.xticks(rotation=45)\n",
    "plt.title('quilometragem dos carros')\n",
    "#aqui eu criei uma lista e coloquei <=40k para os que fossem abaixo de 40000 quilometros rodados e >40k para os que fossem acima\n",
    "#depois disso transformei em dataframe, contei a quantidade que cada aparecia e plotei"
   ]
  },
  {
   "cell_type": "code",
   "execution_count": 11,
   "metadata": {},
   "outputs": [
    {
     "data": {
      "text/plain": [
       "Text(0.5, 1.0, 'marcas diferentes')"
      ]
     },
     "execution_count": 11,
     "metadata": {},
     "output_type": "execute_result"
    },
    {
     "data": {
      "image/png": "[encoded data removed]",
      "text/plain": [
       "<Figure size 432x288 with 1 Axes>"
      ]
     },
     "metadata": {},
     "output_type": "display_data"
    }
   ],
   "source": [
    "quant=df['_marca'].value_counts().values[df['_marca'].value_counts()>=0]\n",
    "nome=df['_marca'].value_counts().index[df['_marca'].value_counts()>=0]\n",
    "plt.style.use('seaborn-colorblind')\n",
    "plt.bar(nome,quant)\n",
    "plt.xticks(rotation=45)\n",
    "plt.title('marcas diferentes')\n",
    "#plot da quantidade em que marcas diferentes aparecem"
   ]
  },
  {
   "cell_type": "code",
   "execution_count": 12,
   "metadata": {},
   "outputs": [
    {
     "data": {
      "text/plain": [
       "Text(0.5, 1.0, 'cambio diferentes')"
      ]
     },
     "execution_count": 12,
     "metadata": {},
     "output_type": "execute_result"
    },
    {
     "data": {
      "image/png": "[encoded data removed]",
      "text/plain": [
       "<Figure size 432x288 with 1 Axes>"
      ]
     },
     "metadata": {},
     "output_type": "display_data"
    }
   ],
   "source": [
    "quant=df['_cambio'].value_counts().values[df['_cambio'].value_counts()>=0]\n",
    "nome=df['_cambio'].value_counts().index[df['_cambio'].value_counts()>=0]\n",
    "plt.style.use('seaborn-colorblind')\n",
    "plt.bar(nome,quant)\n",
    "plt.xticks(rotation=45)\n",
    "plt.title('cambio diferentes')\n",
    "#plot de cambio diferente"
   ]
  },
  {
   "cell_type": "code",
   "execution_count": 14,
   "metadata": {},
   "outputs": [
    {
     "data": {
      "text/plain": [
       "Text(0.5, 1.0, 'tipos de combustivel')"
      ]
     },
     "execution_count": 14,
     "metadata": {},
     "output_type": "execute_result"
    },
    {
     "data": {
      "image/png": "[encoded data removed]",
      "text/plain": [
       "<Figure size 432x288 with 1 Axes>"
      ]
     },
     "metadata": {},
     "output_type": "display_data"
    }
   ],
   "source": [
    "quant=df['_combustivel'].value_counts().values[df['_combustivel'].value_counts()>=0]\n",
    "nome=df['_combustivel'].value_counts().index[df['_combustivel'].value_counts()>=0]\n",
    "plt.style.use('seaborn-colorblind')\n",
    "plt.bar(nome,quant)\n",
    "plt.xticks(rotation=45)\n",
    "plt.title('tipos de combustivel')\n",
    "#plot do tipo de combustivel de cada carro"
   ]
  },
  {
   "cell_type": "code",
   "execution_count": 37,
   "metadata": {},
   "outputs": [
    {
     "data": {
      "text/plain": [
       "'2.0 '"
      ]
     },
     "execution_count": 37,
     "metadata": {},
     "output_type": "execute_result"
    }
   ],
   "source": []
  },
  {
   "cell_type": "code",
   "execution_count": 56,
   "metadata": {},
   "outputs": [
    {
     "data": {
      "text/plain": [
       "<matplotlib.axes._subplots.AxesSubplot at 0x1797bf9e888>"
      ]
     },
     "execution_count": 56,
     "metadata": {},
     "output_type": "execute_result"
    },
    {
     "data": {
      "image/png": "[encoded data removed]",
      "text/plain": [
       "<Figure size 1080x504 with 1 Axes>"
      ]
     },
     "metadata": {},
     "output_type": "display_data"
    }
   ],
   "source": [
    "#fig, ax = plt.subplots(figsize=(15,7))\n",
    "#df.groupby(['_marca','_marca']).count()['_km'].unstack().plot(ax=ax)"
   ]
  },
  {
   "cell_type": "code",
   "execution_count": null,
   "metadata": {},
   "outputs": [],
   "source": []
  }
 ],
 "metadata": {
  "kernelspec": {
   "display_name": "Python [conda env:.conda-firstsend]",
   "language": "python",
   "name": "conda-env-.conda-firstsend-py"
  },
  "language_info": {
   "codemirror_mode": {
    "name": "ipython",
    "version": 3
   },
   "file_extension": ".py",
   "mimetype": "text/x-python",
   "name": "python",
   "nbconvert_exporter": "python",
   "pygments_lexer": "ipython3",
   "version": "3.7.6"
  }
 },
 "nbformat": 4,
 "nbformat_minor": 2
}
